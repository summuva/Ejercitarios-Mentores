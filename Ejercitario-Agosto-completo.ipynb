{
 "cells": [
  {
   "attachments": {},
   "cell_type": "markdown",
   "metadata": {},
   "source": [
    "# Ejercicios a practicar"
   ]
  },
  {
   "attachments": {},
   "cell_type": "markdown",
   "metadata": {},
   "source": [
    "\n",
    "1. Escribir una función que tome una lista de números y devuelva la suma de los elementos."
   ]
  },
  {
   "cell_type": "code",
   "execution_count": 1,
   "metadata": {},
   "outputs": [
    {
     "name": "stdout",
     "output_type": "stream",
     "text": [
      "49\n"
     ]
    }
   ],
   "source": [
    "lista_numeros = [4,6,3,7,8,4,8,9]\n",
    "\n",
    "def sumador(lista_valores):\n",
    "    suma = 0\n",
    "    for numero in lista_valores:\n",
    "        suma += numero\n",
    "    return suma\n",
    "    \n",
    "\n",
    "numeros_sumados = sumador(lista_numeros)\n",
    "\n",
    "print(numeros_sumados)"
   ]
  },
  {
   "attachments": {},
   "cell_type": "markdown",
   "metadata": {},
   "source": [
    "2. Escribir una función que tome una lista de números y devuelva el número más grande."
   ]
  },
  {
   "cell_type": "code",
   "execution_count": 8,
   "metadata": {},
   "outputs": [
    {
     "name": "stdout",
     "output_type": "stream",
     "text": [
      "4567\n"
     ]
    }
   ],
   "source": [
    "# crear una lista con un numero mas grande \n",
    "lista_numeros = [4,6,3,7,8,65,4,4567,8,9]\n",
    "# crear una funcion que tome esa lista y busque el numero mas grande\n",
    "def el_mas_grande(lista_numeros):\n",
    "# crear una variable que valla almacenando el numero mas grande de una iteracion de numeros \n",
    "    mas_grande = 0\n",
    "# Solo se va a actualizar el numero cuando el iterador sea mas grande que la variable mas_grande\n",
    "    for numero in lista_numeros:\n",
    "# usar una condicional para condicionar que siempre se busque el numero mas grande al actual\n",
    "        if numero > mas_grande:\n",
    "            mas_grande = numero\n",
    "    \n",
    "    return mas_grande\n",
    "\n",
    "\n",
    "numero_mayor = el_mas_grande(lista_numeros)\n",
    "print(numero_mayor)\n",
    "\n"
   ]
  },
  {
   "attachments": {},
   "cell_type": "markdown",
   "metadata": {},
   "source": [
    "3. Escribir una función que tome una lista de números y devuelva una lista con los números impares."
   ]
  },
  {
   "cell_type": "code",
   "execution_count": 11,
   "metadata": {},
   "outputs": [
    {
     "name": "stdout",
     "output_type": "stream",
     "text": [
      "[3, 7, 65, 4567, 9]\n"
     ]
    }
   ],
   "source": [
    "lista_numeros = [4,6,3,7,8,65,4,4567,8,9]\n",
    "\n",
    "def impares(lista_numeros):\n",
    "    numeros_impares = []\n",
    "    for numero in lista_numeros:\n",
    "        if numero % 2 != 0:\n",
    "            numeros_impares.append(numero)\n",
    "    \n",
    "    return numeros_impares\n",
    "\n",
    "\n",
    "solo_impares = impares(lista_numeros)\n",
    "print(solo_impares)"
   ]
  },
  {
   "attachments": {},
   "cell_type": "markdown",
   "metadata": {},
   "source": [
    "4. Escribir una función que tome una lista de palabras y devuelva una lista con las palabras que tienen más de 5 letras."
   ]
  },
  {
   "cell_type": "code",
   "execution_count": 12,
   "metadata": {},
   "outputs": [
    {
     "name": "stdout",
     "output_type": "stream",
     "text": [
      "['arbol', 'aproximacion', 'menta']\n"
     ]
    }
   ],
   "source": [
    "lista_palabras = [\"arbol\",\"ojas\",\"alto\",\"Luz\",\"aproximacion\",\"hijo\",\"cama\",\"menta\",\"cien\"]\n",
    "\n",
    "def filtrar_palabras(numero_min_letras,lista_palabras):\n",
    "    \n",
    "    lista_filtrada = []\n",
    "\n",
    "    for palabra in lista_palabras:\n",
    "        \n",
    "        if len(palabra) >= int(numero_min_letras):\n",
    "            lista_filtrada.append(palabra)\n",
    "\n",
    "    return lista_filtrada\n",
    "\n",
    "\n",
    "mi_lista_filtrada = filtrar_palabras(5,lista_palabras)\n",
    "\n",
    "print(mi_lista_filtrada)"
   ]
  },
  {
   "attachments": {},
   "cell_type": "markdown",
   "metadata": {},
   "source": [
    "5. Escribir una función que tome una lista de números y devuelva una lista con los números únicos (sin repeticiones)."
   ]
  },
  {
   "cell_type": "code",
   "execution_count": 18,
   "metadata": {},
   "outputs": [
    {
     "name": "stdout",
     "output_type": "stream",
     "text": [
      "[6, 3, 7, 65, 4567, 9]\n"
     ]
    }
   ],
   "source": [
    "# Crear una lista de numeros\n",
    "lista_numeros = [4,6,3,7,8,65,4,4567,8,9]\n",
    "\n",
    "# crear una funcion que reciba una lista\n",
    "# con la sintaxis (lista_de_numeros: list)-> list: indico que el parametro debe ser unicamente una lista\n",
    "def filtro_numeros_unicos(lista_de_numeros: list)-> list:\n",
    "\n",
    "# crear una lista para cargar los numeros filtrados\n",
    "    lista_filtrada = []\n",
    "# crear un bucle for para iterar los numeros de la lista\n",
    "    for numero in lista_de_numeros:\n",
    "# eliminar el numero iterado de la lista\n",
    "        lista_de_numeros_2 = lista_de_numeros[:]\n",
    "        lista_de_numeros_2.remove(numero)\n",
    "# cuando el numero ya este eliminado, volverlo a buscar en la lista con in para saber si se repite\n",
    "        if numero not in lista_de_numeros_2:\n",
    "# si el numero no se repite, agregar a la lista_filtrada\n",
    "            lista_filtrada.append(numero)\n",
    "    \n",
    "    return lista_filtrada\n",
    "\n",
    "\n",
    "numeros_filtrados = filtro_numeros_unicos(lista_numeros)\n",
    "print(numeros_filtrados)"
   ]
  },
  {
   "attachments": {},
   "cell_type": "markdown",
   "metadata": {},
   "source": [
    "6. Escribir una función que tome una cadena de caracteres y devuelva True si la cadena es un palíndromo (es decir, si se lee igual de izquierda a derecha que de derecha a izquierda)."
   ]
  },
  {
   "cell_type": "code",
   "execution_count": 29,
   "metadata": {},
   "outputs": [
    {
     "data": {
      "text/plain": [
       "True"
      ]
     },
     "execution_count": 29,
     "metadata": {},
     "output_type": "execute_result"
    }
   ],
   "source": [
    "palabra = \"reconocer\"\n",
    "\n",
    "def es_palindromo(palabra):\n",
    "    palabra_listada = list(palabra)\n",
    "    palabra_listada_reverse = palabra_listada[:]\n",
    "    palabra_listada_reverse.reverse()\n",
    "\n",
    "    return palabra_listada == palabra_listada_reverse\n",
    "\n",
    "es_palindromo(palabra)\n"
   ]
  },
  {
   "attachments": {},
   "cell_type": "markdown",
   "metadata": {},
   "source": [
    "7. Escribir una función que tome una lista de números y devuelva una lista con los números ordenados de menor a mayor."
   ]
  },
  {
   "cell_type": "code",
   "execution_count": 33,
   "metadata": {},
   "outputs": [
    {
     "name": "stdout",
     "output_type": "stream",
     "text": [
      "[3, 4, 4, 6, 7, 8, 8, 9, 65, 4567]\n"
     ]
    }
   ],
   "source": [
    "lista_numeros = [4,6,3,7,8,65,4,4567,8,9]\n",
    "\n",
    "def ordenador(lista: list)-> list:\n",
    "    lista_numeros = lista[:]\n",
    "    lista_numeros.sort()\n",
    "    return lista_numeros\n",
    "\n",
    "lista_ordenada = ordenador(lista_numeros)\n",
    "print(lista_ordenada)"
   ]
  },
  {
   "attachments": {},
   "cell_type": "markdown",
   "metadata": {},
   "source": [
    "8. Escribir una función que tome dos listas y devuelva una lista con los elementos comunes a ambas."
   ]
  },
  {
   "cell_type": "code",
   "execution_count": 34,
   "metadata": {},
   "outputs": [
    {
     "name": "stdout",
     "output_type": "stream",
     "text": [
      "[6, 3, 9]\n"
     ]
    }
   ],
   "source": [
    "lista_numeros = [4,6,3,7,8,65,4,4567,8,9]\n",
    "lista_numeros_2 = [3,6,8765,9]\n",
    "\n",
    "def en_comun(lista1,lista2):\n",
    "    \n",
    "    lista_comun = []\n",
    "    \n",
    "    for elemento in lista1:\n",
    "\n",
    "        if elemento in lista2:\n",
    "\n",
    "            lista_comun.append(elemento)\n",
    "\n",
    "    return lista_comun\n",
    "\n",
    "\n",
    "comunismo = en_comun(lista_numeros,lista_numeros_2)\n",
    "\n",
    "print(comunismo)"
   ]
  },
  {
   "attachments": {},
   "cell_type": "markdown",
   "metadata": {},
   "source": [
    "9. Escribir una función que tome una lista de números y devuelva la mediana (el número que está en el centro de la lista cuando está ordenada)."
   ]
  },
  {
   "cell_type": "code",
   "execution_count": 40,
   "metadata": {},
   "outputs": [
    {
     "name": "stdout",
     "output_type": "stream",
     "text": [
      "[2, 3, 4, 4, 5, 6, 7, 8, 9, 65]\n",
      "6\n"
     ]
    }
   ],
   "source": [
    "# crear una lista de numeros \n",
    "lista_numeros = [4,6,3,7,8,65,4,2,9,5]\n",
    "# crear una funcion que reciba una lista\n",
    "def mediana(lista_numeros: list)->list:\n",
    "# ordenar la lista ingresada\n",
    "    lista_copia = lista_numeros[:]\n",
    "    lista_copia.sort()\n",
    "# dividir en 2 la cantidad de elementos\n",
    "# redondear el numero resultado\n",
    "    print(lista_copia)\n",
    "    media = int(len(lista_copia)/2)\n",
    "# usar ese numero como indice para devolver la mediana\n",
    "    return lista_copia[media]\n",
    "\n",
    "print(mediana(lista_numeros))\n",
    "\n"
   ]
  },
  {
   "attachments": {},
   "cell_type": "markdown",
   "metadata": {},
   "source": [
    "10. Escribir una función que tome una lista de números y devuelva la suma de los números pares."
   ]
  },
  {
   "cell_type": "code",
   "execution_count": 48,
   "metadata": {},
   "outputs": [
    {
     "name": "stdout",
     "output_type": "stream",
     "text": [
      "sumando 4\n",
      "sumando 6\n",
      "sumando 8\n",
      "sumando 4\n",
      "sumando 2\n",
      "24\n"
     ]
    }
   ],
   "source": [
    "lista_numeros = [4,6,3,7,8,65,4,2,9,5]\n",
    "\n",
    "def sumador_par(lista):\n",
    "    suma_pares = 0\n",
    "    for numero in lista:\n",
    "        if numero % 2 == 0:\n",
    "            print(f\"sumando {numero}\")\n",
    "            suma_pares += numero\n",
    "\n",
    "    return suma_pares\n",
    "\n",
    "print(sumador_par(lista_numeros))\n"
   ]
  },
  {
   "attachments": {},
   "cell_type": "markdown",
   "metadata": {},
   "source": [
    "11. Escribir una función que tome dos números enteros positivos y devuelva True si son amigos, es decir, si la suma de los divisores propios de uno es igual al otro número, y viceversa. Por ejemplo, (220, 284) es una pareja de amigos, ya que los divisores propios de 220 son 1, 2, 4, 5, 10, 11, 20, 22, 44, 55 y 110, cuya suma es 284; y los divisores propios de 284 son 1, 2, 4, 71 y 142, cuya suma es 220."
   ]
  },
  {
   "cell_type": "code",
   "execution_count": 54,
   "metadata": {},
   "outputs": [
    {
     "name": "stdout",
     "output_type": "stream",
     "text": [
      "True\n"
     ]
    }
   ],
   "source": [
    "# crear una funcion que extraiga todos los divisores de un numero \n",
    "numero_mayor = 300\n",
    "def extraccion_divisores(numero):\n",
    "    \n",
    "    numeros_divisores = []\n",
    "\n",
    "    for i in range(numero):\n",
    "        if numero % (i+1) == 0 and (i+1) != numero:\n",
    "           numeros_divisores.append(i+1)\n",
    "    return numeros_divisores\n",
    "\n",
    "def sumador_divisores(lista_numeros):\n",
    "    sumados = 0\n",
    "\n",
    "    for numero in lista_numeros:\n",
    "        sumados += numero\n",
    "    \n",
    "    return sumados \n",
    "\n",
    "\n",
    "\n",
    "\n",
    "def palindromo(numero,numero_amigo):\n",
    "    \n",
    "    lista_divisores = extraccion_divisores(numero)\n",
    "\n",
    "    divisores_sumados = sumador_divisores(lista_divisores)\n",
    "\n",
    "    return divisores_sumados == numero_amigo\n",
    "\n",
    "\n",
    "si_no = palindromo(1184,1210)\n",
    "print(si_no)\n",
    "\n"
   ]
  },
  {
   "attachments": {},
   "cell_type": "markdown",
   "metadata": {},
   "source": [
    "12. Escribir una función que tome una cadena de caracteres y devuelva la cadena encriptada usando el cifrado de César, con un desplazamiento de tres posiciones. Por ejemplo, si la cadena original es \"hola mundo\", la cadena encriptada sería \"krod pxqgr\"."
   ]
  },
  {
   "cell_type": "code",
   "execution_count": 7,
   "metadata": {},
   "outputs": [
    {
     "name": "stdout",
     "output_type": "stream",
     "text": [
      "krod pxqgr\n"
     ]
    }
   ],
   "source": [
    "palabra = \"hola mundo\"\n",
    "# crear una funcion que reciba una cadena de caracteres \n",
    "def cifrado_cesar(palabra):\n",
    "# crear la variable palabra cifrada \n",
    "    palabra = palabra\n",
    "    palabra_cifrada = \"\"\n",
    "# crear un abcdario sobre el que iterar\n",
    "    abcdario = \"abcdefghijklmnopqrstuvwxyz\"\n",
    "# cuando la letra se encuentra en el abcdario; sumarle 3 al iterador, guardar esa cadena en palabra cifrada\n",
    "    for letra in palabra:\n",
    "        for i in range(len(abcdario)):\n",
    "            if letra == abcdario[i]:\n",
    "                palabra_cifrada += abcdario[i+3]\n",
    "        \n",
    "        if letra == \" \":\n",
    "            palabra_cifrada += \" \"\n",
    "\n",
    "    return palabra_cifrada\n",
    " \n",
    "cifrada = cifrado_cesar(palabra)\n",
    "print(cifrada)"
   ]
  },
  {
   "attachments": {},
   "cell_type": "markdown",
   "metadata": {},
   "source": [
    "13. Escribir una función que tome una lista de números y devuelva una lista con las parejas de números consecutivos cuya suma es un número primo. Por ejemplo, si la lista original es [1, 2, 3, 4, 5, 6, 7, 8, 9], la lista resultante sería [(2, 3), (4, 5), (6, 7)]."
   ]
  },
  {
   "cell_type": "code",
   "execution_count": null,
   "metadata": {},
   "outputs": [],
   "source": [
    "lista_numeros = [4,6,3,7,8,65,4,2,9,5]\n",
    "\n",
    "def parejas(lista_numeros: list):\n",
    "    lista_parejas = []\n",
    "    if len(lista_numeros) % 2 != 0:\n",
    "        ultimo = lista_numeros[len(lista_numeros)-1]\n",
    "        lista_numeros.pop(len(lista_numeros)-1)\n",
    "    \n",
    "\n",
    "    for i in len(range(lista_numeros)):\n",
    "        if i == \n"
   ]
  },
  {
   "cell_type": "code",
   "execution_count": 9,
   "metadata": {},
   "outputs": [
    {
     "name": "stdout",
     "output_type": "stream",
     "text": [
      "4.5\n"
     ]
    }
   ],
   "source": [
    "lista_numeros = [4,6,3,7,8,65,4,2,9,5]\n",
    "\n",
    "def parejas_consecutivas(lista_numeros: list):\n",
    "    lista_ordenada = lista_numeros[:]\n",
    "    lista_ordenada.sort()\n",
    "\n",
    "    for i in lista_ordenada:\n",
    "        if i in lista_ordenada == lista_ordenada[1]:\n",
    "\n"
   ]
  }
 ],
 "metadata": {
  "kernelspec": {
   "display_name": "Python 3",
   "language": "python",
   "name": "python3"
  },
  "language_info": {
   "codemirror_mode": {
    "name": "ipython",
    "version": 3
   },
   "file_extension": ".py",
   "mimetype": "text/x-python",
   "name": "python",
   "nbconvert_exporter": "python",
   "pygments_lexer": "ipython3",
   "version": "3.10.6"
  },
  "orig_nbformat": 4,
  "vscode": {
   "interpreter": {
    "hash": "916dbcbb3f70747c44a77c7bcd40155683ae19c65e1c03b4aa3499c5328201f1"
   }
  }
 },
 "nbformat": 4,
 "nbformat_minor": 2
}
